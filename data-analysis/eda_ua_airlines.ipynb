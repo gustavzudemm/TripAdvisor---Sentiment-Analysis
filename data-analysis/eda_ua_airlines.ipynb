{
 "cells": [
  {
   "cell_type": "code",
   "execution_count": 1,
   "metadata": {},
   "outputs": [],
   "source": [
    "import pandas as pd"
   ]
  },
  {
   "cell_type": "code",
   "execution_count": 2,
   "metadata": {},
   "outputs": [
    {
     "data": {
      "text/plain": [
       "<bound method DataFrame.info of           _id  title                                               text  \\\n",
       "0    GFaWXvl6    NaN  Als wir am Flughafen in Bangor einchecken woll...   \n",
       "1    Wp22ia89    NaN  Hinflug war Lufthansa (Service u. Komfort wirk...   \n",
       "2    bB0seP7h    NaN  Absolut kein Verständnis dafür, dass Lufthansa...   \n",
       "3    sSMn6Yly    NaN  United Airlines hat uns wieder einmal sehr gut...   \n",
       "4    Hye3ZaTv    NaN  Das Personal am Flughafen ist brutal unfreundl...   \n",
       "..        ...    ...                                                ...   \n",
       "620  1LI5Qlp7    NaN  Dieses Flugzeugmuster (Boeing 767-300 ER) ist ...   \n",
       "621  Evmoh8A3    NaN  Man sehnt sich nach Zeiten zurück, als man noc...   \n",
       "622  IH8Qmc1V    NaN  Hier fand überhaupt kein merkbarer Service meh...   \n",
       "623  0UV4WThh    NaN  Liebloser Service, Essen unter aller Sau, die ...   \n",
       "624  mTVlRUfj    NaN  Das Personal war sehr freundlich, aber das Ess...   \n",
       "\n",
       "     rating  reviewer_handle  language        airline_name  flight_date  \\\n",
       "0       1.0              NaN       NaN  Singapore Airlines          NaN   \n",
       "1       1.0              NaN       NaN  Singapore Airlines          NaN   \n",
       "2       1.0              NaN       NaN  Singapore Airlines          NaN   \n",
       "3       4.0              NaN       NaN  Singapore Airlines          NaN   \n",
       "4       1.0              NaN       NaN  Singapore Airlines          NaN   \n",
       "..      ...              ...       ...                 ...          ...   \n",
       "620     2.0              NaN       NaN  Singapore Airlines          NaN   \n",
       "621     2.0              NaN       NaN  Singapore Airlines          NaN   \n",
       "622     2.0              NaN       NaN  Singapore Airlines          NaN   \n",
       "623     2.0              NaN       NaN  Singapore Airlines          NaN   \n",
       "624     3.0              NaN       NaN  Singapore Airlines          NaN   \n",
       "\n",
       "     flight_connection  flight_type  booking_class  \n",
       "0                  NaN          NaN            NaN  \n",
       "1                  NaN          NaN            NaN  \n",
       "2                  NaN          NaN            NaN  \n",
       "3                  NaN          NaN            NaN  \n",
       "4                  NaN          NaN            NaN  \n",
       "..                 ...          ...            ...  \n",
       "620                NaN          NaN            NaN  \n",
       "621                NaN          NaN            NaN  \n",
       "622                NaN          NaN            NaN  \n",
       "623                NaN          NaN            NaN  \n",
       "624                NaN          NaN            NaN  \n",
       "\n",
       "[625 rows x 11 columns]>"
      ]
     },
     "execution_count": 2,
     "metadata": {},
     "output_type": "execute_result"
    }
   ],
   "source": [
    "df = pd.read_csv('../tripadvisor_airline_ua_batch_685.csv', index_col=0)\n",
    "df.info"
   ]
  },
  {
   "cell_type": "code",
   "execution_count": 4,
   "metadata": {},
   "outputs": [
    {
     "data": {
      "text/plain": [
       "<Axes: >"
      ]
     },
     "execution_count": 4,
     "metadata": {},
     "output_type": "execute_result"
    },
    {
     "data": {
      "image/png": "[encoded data removed]",
      "text/plain": [
       "<Figure size 640x480 with 1 Axes>"
      ]
     },
     "metadata": {},
     "output_type": "display_data"
    }
   ],
   "source": [
    "df['rating'].hist()"
   ]
  },
  {
   "cell_type": "code",
   "execution_count": null,
   "metadata": {},
   "outputs": [],
   "source": []
  }
 ],
 "metadata": {
  "kernelspec": {
   "display_name": "absa_tripadvisor",
   "language": "python",
   "name": "python3"
  },
  "language_info": {
   "codemirror_mode": {
    "name": "ipython",
    "version": 3
   },
   "file_extension": ".py",
   "mimetype": "text/x-python",
   "name": "python",
   "nbconvert_exporter": "python",
   "pygments_lexer": "ipython3",
   "version": "3.10.0"
  }
 },
 "nbformat": 4,
 "nbformat_minor": 2
}
