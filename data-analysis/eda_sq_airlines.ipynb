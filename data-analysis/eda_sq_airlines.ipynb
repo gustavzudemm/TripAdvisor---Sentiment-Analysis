{
 "cells": [
  {
   "cell_type": "code",
   "execution_count": 10,
   "metadata": {},
   "outputs": [
    {
     "data": {
      "text/html": [
       "<div>\n",
       "<style scoped>\n",
       "    .dataframe tbody tr th:only-of-type {\n",
       "        vertical-align: middle;\n",
       "    }\n",
       "\n",
       "    .dataframe tbody tr th {\n",
       "        vertical-align: top;\n",
       "    }\n",
       "\n",
       "    .dataframe thead th {\n",
       "        text-align: right;\n",
       "    }\n",
       "</style>\n",
       "<table border=\"1\" class=\"dataframe\">\n",
       "  <thead>\n",
       "    <tr style=\"text-align: right;\">\n",
       "      <th></th>\n",
       "      <th>_id</th>\n",
       "      <th>title</th>\n",
       "      <th>text</th>\n",
       "      <th>rating</th>\n",
       "      <th>reviewer_handle</th>\n",
       "      <th>language</th>\n",
       "      <th>airline_name</th>\n",
       "      <th>flight_date</th>\n",
       "      <th>flight_connection</th>\n",
       "      <th>flight_type</th>\n",
       "      <th>booking_class</th>\n",
       "    </tr>\n",
       "  </thead>\n",
       "  <tbody>\n",
       "    <tr>\n",
       "      <th>0</th>\n",
       "      <td>v2lbUqiz</td>\n",
       "      <td>NaN</td>\n",
       "      <td>Der Service war wie jedesmal gut. Unser Flug v...</td>\n",
       "      <td>5.0</td>\n",
       "      <td>NaN</td>\n",
       "      <td>NaN</td>\n",
       "      <td>Singapore Airlines</td>\n",
       "      <td>NaN</td>\n",
       "      <td>NaN</td>\n",
       "      <td>NaN</td>\n",
       "      <td>NaN</td>\n",
       "    </tr>\n",
       "    <tr>\n",
       "      <th>1</th>\n",
       "      <td>6iKpPLEo</td>\n",
       "      <td>NaN</td>\n",
       "      <td>Wir werden bald unseren Sommerurlaub im Anschl...</td>\n",
       "      <td>4.0</td>\n",
       "      <td>NaN</td>\n",
       "      <td>NaN</td>\n",
       "      <td>Singapore Airlines</td>\n",
       "      <td>NaN</td>\n",
       "      <td>NaN</td>\n",
       "      <td>NaN</td>\n",
       "      <td>NaN</td>\n",
       "    </tr>\n",
       "    <tr>\n",
       "      <th>2</th>\n",
       "      <td>VRMsSQ8t</td>\n",
       "      <td>NaN</td>\n",
       "      <td>Aufgrund der aktuellen Erdbeben- und Vulkan-La...</td>\n",
       "      <td>1.0</td>\n",
       "      <td>NaN</td>\n",
       "      <td>NaN</td>\n",
       "      <td>Singapore Airlines</td>\n",
       "      <td>NaN</td>\n",
       "      <td>NaN</td>\n",
       "      <td>NaN</td>\n",
       "      <td>NaN</td>\n",
       "    </tr>\n",
       "    <tr>\n",
       "      <th>3</th>\n",
       "      <td>WEFZfFw6</td>\n",
       "      <td>NaN</td>\n",
       "      <td>Rundum zufrieden - guter Service, sehr freundl...</td>\n",
       "      <td>4.0</td>\n",
       "      <td>NaN</td>\n",
       "      <td>NaN</td>\n",
       "      <td>Singapore Airlines</td>\n",
       "      <td>NaN</td>\n",
       "      <td>NaN</td>\n",
       "      <td>NaN</td>\n",
       "      <td>NaN</td>\n",
       "    </tr>\n",
       "    <tr>\n",
       "      <th>4</th>\n",
       "      <td>Yiu4kZ0c</td>\n",
       "      <td>NaN</td>\n",
       "      <td>Wie immer hervorragender Service(deswegen Sing...</td>\n",
       "      <td>4.0</td>\n",
       "      <td>NaN</td>\n",
       "      <td>NaN</td>\n",
       "      <td>Singapore Airlines</td>\n",
       "      <td>NaN</td>\n",
       "      <td>NaN</td>\n",
       "      <td>NaN</td>\n",
       "      <td>NaN</td>\n",
       "    </tr>\n",
       "  </tbody>\n",
       "</table>\n",
       "</div>"
      ],
      "text/plain": [
       "        _id  title                                               text  rating  \\\n",
       "0  v2lbUqiz    NaN  Der Service war wie jedesmal gut. Unser Flug v...     5.0   \n",
       "1  6iKpPLEo    NaN  Wir werden bald unseren Sommerurlaub im Anschl...     4.0   \n",
       "2  VRMsSQ8t    NaN  Aufgrund der aktuellen Erdbeben- und Vulkan-La...     1.0   \n",
       "3  WEFZfFw6    NaN  Rundum zufrieden - guter Service, sehr freundl...     4.0   \n",
       "4  Yiu4kZ0c    NaN  Wie immer hervorragender Service(deswegen Sing...     4.0   \n",
       "\n",
       "   reviewer_handle  language        airline_name  flight_date  \\\n",
       "0              NaN       NaN  Singapore Airlines          NaN   \n",
       "1              NaN       NaN  Singapore Airlines          NaN   \n",
       "2              NaN       NaN  Singapore Airlines          NaN   \n",
       "3              NaN       NaN  Singapore Airlines          NaN   \n",
       "4              NaN       NaN  Singapore Airlines          NaN   \n",
       "\n",
       "   flight_connection  flight_type  booking_class  \n",
       "0                NaN          NaN            NaN  \n",
       "1                NaN          NaN            NaN  \n",
       "2                NaN          NaN            NaN  \n",
       "3                NaN          NaN            NaN  \n",
       "4                NaN          NaN            NaN  "
      ]
     },
     "execution_count": 10,
     "metadata": {},
     "output_type": "execute_result"
    }
   ],
   "source": [
    "import pandas as pd\n",
    "import numpy as np\n",
    "\n",
    "\n",
    "df = pd.read_csv('../tripadvisor_airline_sq_batch_1000.csv', index_col=0)\n",
    "df.head()"
   ]
  },
  {
   "cell_type": "code",
   "execution_count": 11,
   "metadata": {},
   "outputs": [
    {
     "data": {
      "text/plain": [
       "<Axes: >"
      ]
     },
     "execution_count": 11,
     "metadata": {},
     "output_type": "execute_result"
    },
    {
     "data": {
      "image/png": "[encoded data removed]",
      "text/plain": [
       "<Figure size 640x480 with 1 Axes>"
      ]
     },
     "metadata": {},
     "output_type": "display_data"
    }
   ],
   "source": [
    "df['rating'].hist()"
   ]
  },
  {
   "cell_type": "code",
   "execution_count": null,
   "metadata": {},
   "outputs": [],
   "source": []
  }
 ],
 "metadata": {
  "kernelspec": {
   "display_name": "Python 3",
   "language": "python",
   "name": "python3"
  },
  "language_info": {
   "codemirror_mode": {
    "name": "ipython",
    "version": 3
   },
   "file_extension": ".py",
   "mimetype": "text/x-python",
   "name": "python",
   "nbconvert_exporter": "python",
   "pygments_lexer": "ipython3",
   "version": "3.12.0"
  }
 },
 "nbformat": 4,
 "nbformat_minor": 2
}
