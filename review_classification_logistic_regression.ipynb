{
 "cells": [
  {
   "cell_type": "code",
   "execution_count": 19,
   "metadata": {},
   "outputs": [],
   "source": [
    "import numpy as np\n",
    "import pandas as pd\n",
    "import seaborn as sns\n",
    "import matplotlib.pyplot as plt\n",
    "\n",
    "# Initialize seed\n",
    "np.random.seed(1)\n",
    "\n",
    "from sklearn.feature_extraction.text import CountVectorizer, TfidfVectorizer\n",
    "from sklearn.linear_model import LogisticRegression\n",
    "from sklearn.metrics import roc_auc_score, f1_score, confusion_matrix\n",
    "from sklearn.model_selection import train_test_split"
   ]
  },
  {
   "cell_type": "code",
   "execution_count": 20,
   "metadata": {},
   "outputs": [
    {
     "data": {
      "text/html": [
       "<div>\n",
       "<style scoped>\n",
       "    .dataframe tbody tr th:only-of-type {\n",
       "        vertical-align: middle;\n",
       "    }\n",
       "\n",
       "    .dataframe tbody tr th {\n",
       "        vertical-align: top;\n",
       "    }\n",
       "\n",
       "    .dataframe thead th {\n",
       "        text-align: right;\n",
       "    }\n",
       "</style>\n",
       "<table border=\"1\" class=\"dataframe\">\n",
       "  <thead>\n",
       "    <tr style=\"text-align: right;\">\n",
       "      <th></th>\n",
       "      <th>_id</th>\n",
       "      <th>title</th>\n",
       "      <th>text</th>\n",
       "      <th>rating</th>\n",
       "      <th>reviewer_handle</th>\n",
       "      <th>language</th>\n",
       "      <th>flight_date</th>\n",
       "      <th>flight_connection</th>\n",
       "      <th>flight_type</th>\n",
       "      <th>booking_class</th>\n",
       "    </tr>\n",
       "  </thead>\n",
       "  <tbody>\n",
       "    <tr>\n",
       "      <th>0</th>\n",
       "      <td>iExXrREr</td>\n",
       "      <td>0 STERNE VERDIENT</td>\n",
       "      <td>Sind am 14.09.2023 von Graz nach Hawaii geflog...</td>\n",
       "      <td>1.0</td>\n",
       "      <td>NaN</td>\n",
       "      <td>NaN</td>\n",
       "      <td>September 2023</td>\n",
       "      <td>Graz - Honolulu</td>\n",
       "      <td>NaN</td>\n",
       "      <td>NaN</td>\n",
       "    </tr>\n",
       "    <tr>\n",
       "      <th>1</th>\n",
       "      <td>EI0QGGJe</td>\n",
       "      <td>Lebensmittel werden weggeworfen anstatt sie an...</td>\n",
       "      <td>Leider lässt sich beobachten, wie nach und nac...</td>\n",
       "      <td>2.0</td>\n",
       "      <td>NaN</td>\n",
       "      <td>NaN</td>\n",
       "      <td>Oktober 2023</td>\n",
       "      <td>Washington DC - Frankfurt</td>\n",
       "      <td>NaN</td>\n",
       "      <td>NaN</td>\n",
       "    </tr>\n",
       "    <tr>\n",
       "      <th>2</th>\n",
       "      <td>Ugx2jALg</td>\n",
       "      <td>Ohne Einschaltung eines Anwaltes werden Flugga...</td>\n",
       "      <td>Bereits zu Zeiten von Corona musste ich einen ...</td>\n",
       "      <td>1.0</td>\n",
       "      <td>NaN</td>\n",
       "      <td>NaN</td>\n",
       "      <td>März 2023</td>\n",
       "      <td>Munich - Okinawa City</td>\n",
       "      <td>NaN</td>\n",
       "      <td>NaN</td>\n",
       "    </tr>\n",
       "    <tr>\n",
       "      <th>3</th>\n",
       "      <td>Dl3qNyk9</td>\n",
       "      <td>Lufthansa ist bei Inkompetenz die Nummer eins</td>\n",
       "      <td>Flug verspätet\\nKoffer nicht dabei\\nHotline in...</td>\n",
       "      <td>1.0</td>\n",
       "      <td>NaN</td>\n",
       "      <td>NaN</td>\n",
       "      <td>September 2023</td>\n",
       "      <td>Frankfurt - Amsterdam</td>\n",
       "      <td>NaN</td>\n",
       "      <td>NaN</td>\n",
       "    </tr>\n",
       "    <tr>\n",
       "      <th>4</th>\n",
       "      <td>oxQw7BPJ</td>\n",
       "      <td>Sehr schöner Flug mit gratis Wasser und toller...</td>\n",
       "      <td>Alles Top. Sehr ruhiger Flug, nette Crew, viel...</td>\n",
       "      <td>5.0</td>\n",
       "      <td>NaN</td>\n",
       "      <td>NaN</td>\n",
       "      <td>September 2023</td>\n",
       "      <td>Munich - Rhodes</td>\n",
       "      <td>NaN</td>\n",
       "      <td>NaN</td>\n",
       "    </tr>\n",
       "  </tbody>\n",
       "</table>\n",
       "</div>"
      ],
      "text/plain": [
       "        _id                                              title  \\\n",
       "0  iExXrREr                                  0 STERNE VERDIENT   \n",
       "1  EI0QGGJe  Lebensmittel werden weggeworfen anstatt sie an...   \n",
       "2  Ugx2jALg  Ohne Einschaltung eines Anwaltes werden Flugga...   \n",
       "3  Dl3qNyk9      Lufthansa ist bei Inkompetenz die Nummer eins   \n",
       "4  oxQw7BPJ  Sehr schöner Flug mit gratis Wasser und toller...   \n",
       "\n",
       "                                                text  rating  reviewer_handle  \\\n",
       "0  Sind am 14.09.2023 von Graz nach Hawaii geflog...     1.0              NaN   \n",
       "1  Leider lässt sich beobachten, wie nach und nac...     2.0              NaN   \n",
       "2  Bereits zu Zeiten von Corona musste ich einen ...     1.0              NaN   \n",
       "3  Flug verspätet\\nKoffer nicht dabei\\nHotline in...     1.0              NaN   \n",
       "4  Alles Top. Sehr ruhiger Flug, nette Crew, viel...     5.0              NaN   \n",
       "\n",
       "   language     flight_date          flight_connection  flight_type  \\\n",
       "0       NaN  September 2023            Graz - Honolulu          NaN   \n",
       "1       NaN    Oktober 2023  Washington DC - Frankfurt          NaN   \n",
       "2       NaN       März 2023      Munich - Okinawa City          NaN   \n",
       "3       NaN  September 2023      Frankfurt - Amsterdam          NaN   \n",
       "4       NaN  September 2023            Munich - Rhodes          NaN   \n",
       "\n",
       "   booking_class  \n",
       "0            NaN  \n",
       "1            NaN  \n",
       "2            NaN  \n",
       "3            NaN  \n",
       "4            NaN  "
      ]
     },
     "execution_count": 20,
     "metadata": {},
     "output_type": "execute_result"
    }
   ],
   "source": [
    "# Add categories and target labels\n",
    "\n",
    "df = pd.read_csv('tripadvisor_lufthansa_reviews.csv', index_col=0)\n",
    "df.head()"
   ]
  },
  {
   "cell_type": "code",
   "execution_count": 25,
   "metadata": {},
   "outputs": [
    {
     "data": {
      "text/html": [
       "<div>\n",
       "<style scoped>\n",
       "    .dataframe tbody tr th:only-of-type {\n",
       "        vertical-align: middle;\n",
       "    }\n",
       "\n",
       "    .dataframe tbody tr th {\n",
       "        vertical-align: top;\n",
       "    }\n",
       "\n",
       "    .dataframe thead th {\n",
       "        text-align: right;\n",
       "    }\n",
       "</style>\n",
       "<table border=\"1\" class=\"dataframe\">\n",
       "  <thead>\n",
       "    <tr style=\"text-align: right;\">\n",
       "      <th></th>\n",
       "      <th>_id</th>\n",
       "      <th>title</th>\n",
       "      <th>text</th>\n",
       "      <th>rating</th>\n",
       "      <th>reviewer_handle</th>\n",
       "      <th>language</th>\n",
       "      <th>flight_date</th>\n",
       "      <th>flight_connection</th>\n",
       "      <th>flight_type</th>\n",
       "      <th>booking_class</th>\n",
       "    </tr>\n",
       "  </thead>\n",
       "  <tbody>\n",
       "    <tr>\n",
       "      <th>4</th>\n",
       "      <td>oxQw7BPJ</td>\n",
       "      <td>Sehr schöner Flug mit gratis Wasser und toller...</td>\n",
       "      <td>Alles Top. Sehr ruhiger Flug, nette Crew, viel...</td>\n",
       "      <td>5.0</td>\n",
       "      <td>NaN</td>\n",
       "      <td>NaN</td>\n",
       "      <td>September 2023</td>\n",
       "      <td>Munich - Rhodes</td>\n",
       "      <td>NaN</td>\n",
       "      <td>NaN</td>\n",
       "    </tr>\n",
       "  </tbody>\n",
       "</table>\n",
       "</div>"
      ],
      "text/plain": [
       "        _id                                              title  \\\n",
       "4  oxQw7BPJ  Sehr schöner Flug mit gratis Wasser und toller...   \n",
       "\n",
       "                                                text  rating  reviewer_handle  \\\n",
       "4  Alles Top. Sehr ruhiger Flug, nette Crew, viel...     5.0              NaN   \n",
       "\n",
       "   language     flight_date flight_connection  flight_type  booking_class  \n",
       "4       NaN  September 2023   Munich - Rhodes          NaN            NaN  "
      ]
     },
     "execution_count": 25,
     "metadata": {},
     "output_type": "execute_result"
    }
   ],
   "source": [
    "df[df['rating'] == 5.0]"
   ]
  },
  {
   "cell_type": "code",
   "execution_count": 5,
   "metadata": {},
   "outputs": [],
   "source": [
    "def categorize(rating):\n",
    "\n",
    "    if rating >= 4.0:\n",
    "        return 'positive'\n",
    "    elif rating == 3.0:\n",
    "        return 'neutral'\n",
    "    else:\n",
    "        return 'negative'"
   ]
  },
  {
   "cell_type": "code",
   "execution_count": 15,
   "metadata": {},
   "outputs": [
    {
     "data": {
      "text/plain": [
       "<Axes: >"
      ]
     },
     "execution_count": 15,
     "metadata": {},
     "output_type": "execute_result"
    },
    {
     "data": {
      "image/png": "[encoded data removed]",
      "text/plain": [
       "<Figure size 640x480 with 1 Axes>"
      ]
     },
     "metadata": {},
     "output_type": "display_data"
    }
   ],
   "source": [
    "df['sentiment'].hist()"
   ]
  },
  {
   "cell_type": "code",
   "execution_count": null,
   "metadata": {},
   "outputs": [],
   "source": []
  }
 ],
 "metadata": {
  "kernelspec": {
   "display_name": "sentiment-analysis",
   "language": "python",
   "name": "python3"
  },
  "language_info": {
   "codemirror_mode": {
    "name": "ipython",
    "version": 3
   },
   "file_extension": ".py",
   "mimetype": "text/x-python",
   "name": "python",
   "nbconvert_exporter": "python",
   "pygments_lexer": "ipython3",
   "version": "3.9.11"
  }
 },
 "nbformat": 4,
 "nbformat_minor": 2
}
