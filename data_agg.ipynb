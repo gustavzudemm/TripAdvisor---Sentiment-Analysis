{
 "cells": [
  {
   "cell_type": "code",
   "execution_count": 14,
   "metadata": {},
   "outputs": [],
   "source": [
    "import pandas as pd"
   ]
  },
  {
   "cell_type": "code",
   "execution_count": 15,
   "metadata": {},
   "outputs": [],
   "source": [
    "df1 = pd.read_csv('tripadvisor_emirates_reviews.csv', index_col=0)\n",
    "df2 =  pd.read_csv('tripadvisor_lufthansa_reviews.csv', index_col=0)\n",
    "\n",
    "frames = [df1, df2]\n",
    "df = pd.concat(frames)\n",
    "\n",
    "df.to_csv('tripadvisor_airline_reviews.csv', encoding='UTF-8')"
   ]
  },
  {
   "cell_type": "code",
   "execution_count": 16,
   "metadata": {},
   "outputs": [
    {
     "name": "stdout",
     "output_type": "stream",
     "text": [
      "<class 'pandas.core.frame.DataFrame'>\n",
      "Index: 1985 entries, 0 to 994\n",
      "Data columns (total 11 columns):\n",
      " #   Column             Non-Null Count  Dtype  \n",
      "---  ------             --------------  -----  \n",
      " 0   _id                1985 non-null   object \n",
      " 1   title              0 non-null      float64\n",
      " 2   text               1985 non-null   object \n",
      " 3   rating             1985 non-null   float64\n",
      " 4   reviewer_handle    0 non-null      float64\n",
      " 5   language           0 non-null      float64\n",
      " 6   airline_name       1985 non-null   object \n",
      " 7   flight_date        0 non-null      float64\n",
      " 8   flight_connection  0 non-null      float64\n",
      " 9   flight_type        0 non-null      float64\n",
      " 10  booking_class      0 non-null      float64\n",
      "dtypes: float64(8), object(3)\n",
      "memory usage: 186.1+ KB\n"
     ]
    },
    {
     "data": {
      "text/plain": [
       "<Axes: >"
      ]
     },
     "execution_count": 16,
     "metadata": {},
     "output_type": "execute_result"
    },
    {
     "data": {
      "image/png": "[encoded data removed]",
      "text/plain": [
       "<Figure size 640x480 with 1 Axes>"
      ]
     },
     "metadata": {},
     "output_type": "display_data"
    }
   ],
   "source": [
    "df.head()\n",
    "df.info()\n",
    "df['rating'].hist()"
   ]
  },
  {
   "cell_type": "code",
   "execution_count": 17,
   "metadata": {},
   "outputs": [],
   "source": [
    "def categorize(rating):\n",
    "\n",
    "    if rating <= 2.0:\n",
    "        return 'Negative'\n",
    "    elif rating >= 4.0:\n",
    "        return 'Positive'\n",
    "    else:\n",
    "        return 'Neutral'"
   ]
  },
  {
   "cell_type": "code",
   "execution_count": 18,
   "metadata": {},
   "outputs": [],
   "source": [
    "df['sentiment'] = df['rating'].apply(categorize)"
   ]
  },
  {
   "cell_type": "code",
   "execution_count": 19,
   "metadata": {},
   "outputs": [
    {
     "data": {
      "text/html": [
       "<div>\n",
       "<style scoped>\n",
       "    .dataframe tbody tr th:only-of-type {\n",
       "        vertical-align: middle;\n",
       "    }\n",
       "\n",
       "    .dataframe tbody tr th {\n",
       "        vertical-align: top;\n",
       "    }\n",
       "\n",
       "    .dataframe thead th {\n",
       "        text-align: right;\n",
       "    }\n",
       "</style>\n",
       "<table border=\"1\" class=\"dataframe\">\n",
       "  <thead>\n",
       "    <tr style=\"text-align: right;\">\n",
       "      <th></th>\n",
       "      <th>_id</th>\n",
       "      <th>title</th>\n",
       "      <th>text</th>\n",
       "      <th>rating</th>\n",
       "      <th>reviewer_handle</th>\n",
       "      <th>language</th>\n",
       "      <th>airline_name</th>\n",
       "      <th>flight_date</th>\n",
       "      <th>flight_connection</th>\n",
       "      <th>flight_type</th>\n",
       "      <th>booking_class</th>\n",
       "      <th>sentiment</th>\n",
       "    </tr>\n",
       "  </thead>\n",
       "  <tbody>\n",
       "    <tr>\n",
       "      <th>0</th>\n",
       "      <td>BAFHFJ4n</td>\n",
       "      <td>NaN</td>\n",
       "      <td>Ich bin sehr positiv angetan mit diese Gesells...</td>\n",
       "      <td>5.0</td>\n",
       "      <td>NaN</td>\n",
       "      <td>NaN</td>\n",
       "      <td>Emirates</td>\n",
       "      <td>NaN</td>\n",
       "      <td>NaN</td>\n",
       "      <td>NaN</td>\n",
       "      <td>NaN</td>\n",
       "      <td>Positive</td>\n",
       "    </tr>\n",
       "    <tr>\n",
       "      <th>1</th>\n",
       "      <td>DKCtYZuj</td>\n",
       "      <td>NaN</td>\n",
       "      <td>Flug war auf der Hinreise knapp 1 Stunde versp...</td>\n",
       "      <td>3.0</td>\n",
       "      <td>NaN</td>\n",
       "      <td>NaN</td>\n",
       "      <td>Emirates</td>\n",
       "      <td>NaN</td>\n",
       "      <td>NaN</td>\n",
       "      <td>NaN</td>\n",
       "      <td>NaN</td>\n",
       "      <td>Neutral</td>\n",
       "    </tr>\n",
       "    <tr>\n",
       "      <th>2</th>\n",
       "      <td>gUyMgdC3</td>\n",
       "      <td>NaN</td>\n",
       "      <td>Flug wurde von Sbg ursprünglich gebucht. Wurde...</td>\n",
       "      <td>2.0</td>\n",
       "      <td>NaN</td>\n",
       "      <td>NaN</td>\n",
       "      <td>Emirates</td>\n",
       "      <td>NaN</td>\n",
       "      <td>NaN</td>\n",
       "      <td>NaN</td>\n",
       "      <td>NaN</td>\n",
       "      <td>Negative</td>\n",
       "    </tr>\n",
       "    <tr>\n",
       "      <th>3</th>\n",
       "      <td>MHjJQCeQ</td>\n",
       "      <td>NaN</td>\n",
       "      <td>Wir sind um 15 Uhr 30 in den Flieger gestiegen...</td>\n",
       "      <td>2.0</td>\n",
       "      <td>NaN</td>\n",
       "      <td>NaN</td>\n",
       "      <td>Emirates</td>\n",
       "      <td>NaN</td>\n",
       "      <td>NaN</td>\n",
       "      <td>NaN</td>\n",
       "      <td>NaN</td>\n",
       "      <td>Negative</td>\n",
       "    </tr>\n",
       "    <tr>\n",
       "      <th>4</th>\n",
       "      <td>ppb5iYWW</td>\n",
       "      <td>NaN</td>\n",
       "      <td>Flug war auf der Hinreise 2h verspätet, auf de...</td>\n",
       "      <td>3.0</td>\n",
       "      <td>NaN</td>\n",
       "      <td>NaN</td>\n",
       "      <td>Emirates</td>\n",
       "      <td>NaN</td>\n",
       "      <td>NaN</td>\n",
       "      <td>NaN</td>\n",
       "      <td>NaN</td>\n",
       "      <td>Neutral</td>\n",
       "    </tr>\n",
       "  </tbody>\n",
       "</table>\n",
       "</div>"
      ],
      "text/plain": [
       "        _id  title                                               text  rating  \\\n",
       "0  BAFHFJ4n    NaN  Ich bin sehr positiv angetan mit diese Gesells...     5.0   \n",
       "1  DKCtYZuj    NaN  Flug war auf der Hinreise knapp 1 Stunde versp...     3.0   \n",
       "2  gUyMgdC3    NaN  Flug wurde von Sbg ursprünglich gebucht. Wurde...     2.0   \n",
       "3  MHjJQCeQ    NaN  Wir sind um 15 Uhr 30 in den Flieger gestiegen...     2.0   \n",
       "4  ppb5iYWW    NaN  Flug war auf der Hinreise 2h verspätet, auf de...     3.0   \n",
       "\n",
       "   reviewer_handle  language airline_name  flight_date  flight_connection  \\\n",
       "0              NaN       NaN     Emirates          NaN                NaN   \n",
       "1              NaN       NaN     Emirates          NaN                NaN   \n",
       "2              NaN       NaN     Emirates          NaN                NaN   \n",
       "3              NaN       NaN     Emirates          NaN                NaN   \n",
       "4              NaN       NaN     Emirates          NaN                NaN   \n",
       "\n",
       "   flight_type  booking_class sentiment  \n",
       "0          NaN            NaN  Positive  \n",
       "1          NaN            NaN   Neutral  \n",
       "2          NaN            NaN  Negative  \n",
       "3          NaN            NaN  Negative  \n",
       "4          NaN            NaN   Neutral  "
      ]
     },
     "execution_count": 19,
     "metadata": {},
     "output_type": "execute_result"
    }
   ],
   "source": [
    "df.head()"
   ]
  },
  {
   "cell_type": "code",
   "execution_count": 20,
   "metadata": {},
   "outputs": [
    {
     "data": {
      "text/plain": [
       "<Axes: >"
      ]
     },
     "execution_count": 20,
     "metadata": {},
     "output_type": "execute_result"
    },
    {
     "data": {
      "image/png": "[encoded data removed]",
      "text/plain": [
       "<Figure size 640x480 with 1 Axes>"
      ]
     },
     "metadata": {},
     "output_type": "display_data"
    }
   ],
   "source": [
    "df['sentiment'].hist()"
   ]
  },
  {
   "cell_type": "code",
   "execution_count": null,
   "metadata": {},
   "outputs": [],
   "source": []
  }
 ],
 "metadata": {
  "kernelspec": {
   "display_name": "Python 3",
   "language": "python",
   "name": "python3"
  },
  "language_info": {
   "codemirror_mode": {
    "name": "ipython",
    "version": 3
   },
   "file_extension": ".py",
   "mimetype": "text/x-python",
   "name": "python",
   "nbconvert_exporter": "python",
   "pygments_lexer": "ipython3",
   "version": "3.12.0"
  }
 },
 "nbformat": 4,
 "nbformat_minor": 2
}
